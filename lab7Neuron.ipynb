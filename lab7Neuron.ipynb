{
  "nbformat": 4,
  "nbformat_minor": 0,
  "metadata": {
    "colab": {
      "name": "lab7Neuron.ipynb",
      "provenance": [],
      "collapsed_sections": []
    },
    "kernelspec": {
      "name": "python3",
      "display_name": "Python 3"
    },
    "language_info": {
      "name": "python"
    }
  },
  "cells": [
    {
      "cell_type": "markdown",
      "source": [
        "#ANN (Artificial Neural Network)"
      ],
      "metadata": {
        "id": "gTW-mUNOeRRM"
      }
    },
    {
      "cell_type": "markdown",
      "source": [
        "![dotProduct.PNG](data:image/png;base64,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)"
      ],
      "metadata": {
        "id": "JGAGQjrmtyJY"
      }
    },
    {
      "cell_type": "markdown",
      "source": [
        "##1. The simplest network\n",
        "[97]\n"
      ],
      "metadata": {
        "id": "FlXXP4DChmyU"
      }
    },
    {
      "cell_type": "code",
      "source": [
        "import numpy as np"
      ],
      "metadata": {
        "id": "iQ5DfT0JhmGp"
      },
      "execution_count": null,
      "outputs": []
    },
    {
      "cell_type": "code",
      "source": [
        "# Data\n",
        "employees_experience = np.array([5,.5,3])\n",
        "right_employees = np.array([0.9, 0.85])"
      ],
      "metadata": {
        "id": "odZCsAW1hwbt"
      },
      "execution_count": null,
      "outputs": []
    },
    {
      "cell_type": "code",
      "source": [
        "# network\n",
        "def neural_network(input: float, weight: float) -> float:\n",
        "  prediction = input * weight\n",
        "  return prediction"
      ],
      "metadata": {
        "id": "7T55-MtDh_iT"
      },
      "execution_count": null,
      "outputs": []
    },
    {
      "cell_type": "code",
      "source": [
        "# Parameter\n",
        "weight = 0.17"
      ],
      "metadata": {
        "id": "gpMhZB-riVlH"
      },
      "execution_count": null,
      "outputs": []
    },
    {
      "cell_type": "code",
      "source": [
        "# Bat's id is 0\n",
        "# Sarnai's id is 1\n",
        "employees_id = 0\n",
        "input = employees_experience[employees_id]\n",
        "pred = neural_network(input, weight)\n",
        "print(f'Prediction: {pred} \\nTrue value: {right_employees[employees_id]}')"
      ],
      "metadata": {
        "colab": {
          "base_uri": "https://localhost:8080/"
        },
        "id": "znYzjlroikjf",
        "outputId": "c6d4893c-e5e0-426b-8ae2-f9033ebb3bd4"
      },
      "execution_count": null,
      "outputs": [
        {
          "output_type": "stream",
          "name": "stdout",
          "text": [
            "Prediction: 0.8500000000000001 \n",
            "True value: 0.9\n"
          ]
        }
      ]
    },
    {
      "cell_type": "markdown",
      "source": [
        "##2. Multiple inputs network"
      ],
      "metadata": {
        "id": "5VnDN0yGjf5V"
      }
    },
    {
      "cell_type": "code",
      "source": [
        "# Data\n",
        "employees_experience = np.array([5.5,3])\n",
        "employees_work_performance = np.array([0.75, 0.95])\n",
        "employees_salaries = np.array([2.5, 1.8])\n",
        "\n",
        "right_employees = np.array([0.9, 0.85])"
      ],
      "metadata": {
        "id": "UbZ5F0hejoj5"
      },
      "execution_count": null,
      "outputs": []
    },
    {
      "cell_type": "code",
      "source": [
        "# Network\n",
        "def neural_network(input: 'vector', weight: 'vector') -> float:\n",
        "  pred = input.dot(weight)\n",
        "  return pred"
      ],
      "metadata": {
        "id": "nzg65qb2kGv0"
      },
      "execution_count": null,
      "outputs": []
    },
    {
      "cell_type": "code",
      "source": [
        "# Parameters\n",
        "weights = np.array([0.1, 0.1, 0.2])"
      ],
      "metadata": {
        "id": "5qVZambClSxK"
      },
      "execution_count": null,
      "outputs": []
    },
    {
      "cell_type": "code",
      "source": [
        "# Bat's id is 0\n",
        "# Sarnai's id is 1\n",
        "employees_id = 0\n",
        "input = np.array([employees_experience[employees_id],\n",
        "                  employees_work_performance[employees_id],\n",
        "                  employees_salaries[employees_id]])\n",
        "pred = neural_network(input, weight)\n",
        "print(f'Prediction: {pred} \\nTrue value: {right_employees[employees_id]}')"
      ],
      "metadata": {
        "colab": {
          "base_uri": "https://localhost:8080/"
        },
        "id": "WJnajNn7mJRO",
        "outputId": "88578eaf-46d5-4bd2-ebf1-997d00aa5375"
      },
      "execution_count": null,
      "outputs": [
        {
          "output_type": "stream",
          "name": "stdout",
          "text": [
            "Prediction: [0.935  0.1275 0.425 ] \n",
            "True value: 0.9\n"
          ]
        }
      ]
    },
    {
      "cell_type": "markdown",
      "source": [
        "##3. Multiple outputs network"
      ],
      "metadata": {
        "id": "FOaTwZsKm8XD"
      }
    },
    {
      "cell_type": "code",
      "source": [
        "# Data\n",
        "employees_experience = np.array([5.5, 3])\n",
        "\n",
        "right_employees = np.array([0.9, 0.85])\n",
        "happiness_levels = np.array([0.7, 0.9])\n",
        "employee_turnover = np.array([1, 2.5])"
      ],
      "metadata": {
        "id": "05uxT4RonA-U"
      },
      "execution_count": null,
      "outputs": []
    },
    {
      "cell_type": "code",
      "source": [
        "# Network\n",
        "def neural_network(input: float, weights: 'vector') -> 'vector':\n",
        "  pred = input * weights\n",
        "  return pred"
      ],
      "metadata": {
        "id": "Y_tWL35KnZcZ"
      },
      "execution_count": null,
      "outputs": []
    },
    {
      "cell_type": "code",
      "source": [
        "# Parameters \n",
        "weights = np.array([0.163, 0.130, 0.1])"
      ],
      "metadata": {
        "id": "QbsGsCWxnmn5"
      },
      "execution_count": null,
      "outputs": []
    },
    {
      "cell_type": "code",
      "source": [
        "# Bat's id is 0\n",
        "# Sarnai's id is 1\n",
        "employees_id = 1\n",
        "input = employees_experience[employees_id]\n",
        "pred = neural_network(input, weights)\n",
        "\n",
        "true_value = np.vstack((right_employees, happiness_levels, employee_turnover))\n",
        "for i in range(len(pred)):\n",
        "  print(f'Prediction: {pred[i]:.2f}, \\tTrue value: {true_value[i][employees_id]}')"
      ],
      "metadata": {
        "colab": {
          "base_uri": "https://localhost:8080/"
        },
        "id": "SjfVMQtXnwxL",
        "outputId": "4ebcbb31-5ff9-4a4c-b99c-fec65ad7cef8"
      },
      "execution_count": null,
      "outputs": [
        {
          "output_type": "stream",
          "name": "stdout",
          "text": [
            "Prediction: 0.49, \tTrue value: 0.85\n",
            "Prediction: 0.39, \tTrue value: 0.9\n",
            "Prediction: 0.30, \tTrue value: 2.5\n"
          ]
        }
      ]
    },
    {
      "cell_type": "markdown",
      "source": [
        "##4. Multiple inputs and outputs network"
      ],
      "metadata": {
        "id": "sswmowANoxcg"
      }
    },
    {
      "cell_type": "code",
      "source": [
        "# Data\n",
        "employees_experience = np.array([5.5, 3])\n",
        "employees_work_performance = np.array([0.75, 0.95])\n",
        "employees_salaries = np.array([2.5, 1.8])\n",
        "\n",
        "right_employees = np.array([0.9, 0.85])\n",
        "happiness_levels = np.array([0.7, 0.9])\n",
        "employee_turnover = np.array([1, 2.5])"
      ],
      "metadata": {
        "id": "u3_DD2M1oVgF"
      },
      "execution_count": null,
      "outputs": []
    },
    {
      "cell_type": "code",
      "source": [
        "# Network\n",
        "def neural_network(input: 'vector', weights: 'matrix') -> 'vector':\n",
        "  pred = input.dot(weights)\n",
        "  return pred"
      ],
      "metadata": {
        "id": "r8VIGf0FpeJz"
      },
      "execution_count": null,
      "outputs": []
    },
    {
      "cell_type": "code",
      "source": [
        "# Parameters\n",
        "weights = np.array([[0.1, 0.17, 0.2], # experience\n",
        "                    [0.2, 0.21, 0.0], # performance\n",
        "                    [0.08, 0.3, 0.1]]) # salaries"
      ],
      "metadata": {
        "id": "MFgStiLPpxaV"
      },
      "execution_count": null,
      "outputs": []
    },
    {
      "cell_type": "code",
      "source": [
        "# Bat's id is 0\n",
        "# Sarnai's id is 1\n",
        "employees_id = 1\n",
        "input = np.array([employees_experience[employees_id],\n",
        "                  employees_work_performance[employees_id],\n",
        "                  employees_salaries[employees_id]])\n",
        "pred = neural_network(input, weights)\n",
        "\n",
        "true_value = np.vstack((right_employees, happiness_levels, employee_turnover))\n",
        "for i in range(len(pred)):\n",
        "  print(f'Prediction: {pred[i]:.2f}, \\tTrue value: {true_value[i][employees_id]}')"
      ],
      "metadata": {
        "colab": {
          "base_uri": "https://localhost:8080/"
        },
        "id": "0OlICPQLqUIL",
        "outputId": "bf398488-6a2f-474f-8619-7457db411e7b"
      },
      "execution_count": null,
      "outputs": [
        {
          "output_type": "stream",
          "name": "stdout",
          "text": [
            "Prediction: 0.63, \tTrue value: 0.85\n",
            "Prediction: 1.25, \tTrue value: 0.9\n",
            "Prediction: 0.78, \tTrue value: 2.5\n"
          ]
        }
      ]
    },
    {
      "cell_type": "markdown",
      "source": [
        "##5. Predictiing on predictions (Hidden layer)"
      ],
      "metadata": {
        "id": "t-IMWouirUj6"
      }
    },
    {
      "cell_type": "code",
      "source": [
        "# Data\n",
        "employees_experience = np.array([5.5, 3])\n",
        "employees_work_performance = np.array([0.75, 0.95])\n",
        "employees_salaries = np.array([2.5, 1.8])\n",
        "\n",
        "right_employees = np.array([0.9, 0.85])\n",
        "happiness_levels = np.array([0.7, 0.9])\n",
        "employee_turnover = np.array([1, 2.5])"
      ],
      "metadata": {
        "id": "KFqYyY7xrcOb"
      },
      "execution_count": null,
      "outputs": []
    },
    {
      "cell_type": "code",
      "source": [
        "# Network\n",
        "def neural_network(input: 'vector', weights: 'list of arrays') -> 'vector':\n",
        "  hid = input.dot(weights[0])\n",
        "  pred = hid.dot(weights[1])\n",
        "  return pred"
      ],
      "metadata": {
        "id": "hTn65Bdxx1D4"
      },
      "execution_count": null,
      "outputs": []
    },
    {
      "cell_type": "code",
      "source": [
        "#Parameters             hid[0] hid[1] hid[2]\n",
        "ih_weights = np.array([[0.08908, 0.2987891, -0.11], # experience\n",
        "                       [-0.212836213, 0.32172638, 0.91], # performance\n",
        "                       [0.21, -0.41, 3.98]]) # salaries\n",
        "                       # right? happy? turnover?\n",
        "hp_weights = np.array([[0.15, 0.17, -0.2], # hid[0]\n",
        "                       [0.06, 0.21, 0.0], # hid[1]\n",
        "                       [0.1, 1.3, 0.1]]) # hid[2]\n",
        "weights = [ih_weights, hp_weights] "
      ],
      "metadata": {
        "id": "Ryh_qdEAsaE6"
      },
      "execution_count": null,
      "outputs": []
    },
    {
      "cell_type": "code",
      "source": [
        "# Bat's id is 0\n",
        "# Sarnai's id is 1\n",
        "employees_id = 0\n",
        "input = np.array([employees_experience[employees_id],\n",
        "                  employees_work_performance[employees_id],\n",
        "                  employees_salaries[employees_id]])\n",
        "pred = neural_network(input, weights)\n",
        "\n",
        "true_value = np.vstack((right_employees, happiness_levels, employee_turnover))\n",
        "for i in range(len(pred)):\n",
        "  print(f'Prediction: {pred[i]:.2f}, \\tTrue value: , {true_value[i][employees_id]}')"
      ],
      "metadata": {
        "colab": {
          "base_uri": "https://localhost:8080/"
        },
        "id": "3CkKxGRQthn2",
        "outputId": "21915b4e-b0ae-4b62-ed5b-4bf427fd4b35"
      },
      "execution_count": null,
      "outputs": [
        {
          "output_type": "stream",
          "name": "stdout",
          "text": [
            "Prediction: 1.18, \tTrue value: , 0.9\n",
            "Prediction: 13.36, \tTrue value: , 0.7\n",
            "Prediction: 0.83, \tTrue value: , 1.0\n"
          ]
        }
      ]
    }
  ]
}