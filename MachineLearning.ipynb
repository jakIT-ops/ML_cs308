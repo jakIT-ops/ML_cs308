{
  "nbformat": 4,
  "nbformat_minor": 0,
  "metadata": {
    "colab": {
      "name": "MachineLearning.ipynb",
      "provenance": [],
      "collapsed_sections": []
    },
    "kernelspec": {
      "name": "python3",
      "display_name": "Python 3"
    },
    "language_info": {
      "name": "python"
    }
  },
  "cells": [
    {
      "cell_type": "markdown",
      "source": [
        "**Шийдвэрийн мод**\n",
        "\n",
        "Энэ нь хамгийн энгийн бөгөөд түгээмэл ашиглагддаг алгоритм юм. Шийдвэрийн мод гэдэг нь дотоод зангилаа нь шинж чанарыг илэрхийлдэг, мөчир нь шийдвэрийн дүрмийг, навчны зангилаа бүр нь үр дүнг илэрхийлдэг урсгалын диаграммтай төстэй модны бүтэц юм. Шийдвэрийн модны хамгийн дээд цэгийг үндэс зангилаа гэдэг. Өгөгдлийн шинж чанарын аль нэг онцлох хэсгээр нь жижиг хэсгүүдэд буюу зангилаануудад хуваана. Энэ нь рекурсив байдлаар хуваана. Энэхүү урсгалтын диаграмтай төстэй бүтэц нь шийдвэр гаргахад тань тусалдаг \n"
      ],
      "metadata": {
        "id": "HvLyrhWiril_"
      }
    },
    {
      "cell_type": "code",
      "source": [
        "import pandas\n",
        "import scipy\n",
        "import numpy\n",
        "from sklearn.preprocessing import MinMaxScaler"
      ],
      "metadata": {
        "id": "b4Gs_HR7VsEQ"
      },
      "execution_count": null,
      "outputs": []
    },
    {
      "cell_type": "markdown",
      "source": [
        "Өгөгдлийн хэмжээсийг өөрчлөх "
      ],
      "metadata": {
        "id": "oVe4Ik58Yz-h"
      }
    },
    {
      "cell_type": "code",
      "source": [
        "df = pandas.read_csv('winequality-red.csv', sep=';')\n",
        "array = df.values\n",
        "# Separating data into input and output components\n",
        "x = array[:,0:8]\n",
        "y = array[:,8]\n",
        "scaler = MinMaxScaler(feature_range = (0,1))\n",
        "rescaledX = scaler.fit_transform(x)\n",
        "numpy.set_printoptions(precision = 3) # Setting precision\n",
        "\n",
        "print(rescaledX[0:5,:])"
      ],
      "metadata": {
        "id": "a_nFBY_zV9r4"
      },
      "execution_count": null,
      "outputs": []
    },
    {
      "cell_type": "markdown",
      "source": [
        "Өгөгдлийн стандартчлал"
      ],
      "metadata": {
        "id": "pCatwEp2ZAPH"
      }
    },
    {
      "cell_type": "markdown",
      "source": [
        "Өгөгдлийн стандарчлал нь янз бүрийн арга хэрэгсэл ба ялгаатай хазайлтын ялгаатай шинж чанаруудыг 0 - ийн дундаж ба 1 стандарт хазайлттай стандарт Гаусс тархалт болгон хувиргахад тусалдаг Scikit-learn-ийн standartScaler классын ашиглан өгөгдлийг стандарчилдаг"
      ],
      "metadata": {
        "id": "v2TJaAn1ZVVX"
      }
    },
    {
      "cell_type": "code",
      "source": [
        "from sklearn.preprocessing import StandardScaler\n",
        "scaler = StandardScaler().fit(x)\n",
        "rescaledX = scaler.transform(x)\n",
        "rescaledX[0:5,:]"
      ],
      "metadata": {
        "id": "tjMQ-V7BZz2p"
      },
      "execution_count": null,
      "outputs": []
    },
    {
      "cell_type": "markdown",
      "source": [
        "**2-тын дараалалд оруулах**"
      ],
      "metadata": {
        "id": "kFZqEOHeaaSE"
      }
    },
    {
      "cell_type": "markdown",
      "source": [
        "Энэ аргын хувьд босго хэмжээнээс дээш бүх утгыг 1 болгож, босготой тэнцүү ба түүнээс доош утгыг 0 болгоно. Энэ арга нь магадлал тооцоологдох үед өгөгдлийг тодорхой утга болгон хөрвүүлэхэд хэрэгтэй болно. Өгөгдлийг 2-т руу хөрвүүлэхдээ binarizer классыг ашиглан хийдэг."
      ],
      "metadata": {
        "id": "v0VQJ7HcafrM"
      }
    },
    {
      "cell_type": "code",
      "source": [
        "from sklearn.preprocessing import Binarizer\n",
        "binarizer = Binarizer(threshold=0.0).fit(x)\n",
        "binary_X = binarizer.transform(x)\n",
        "binary_X[0:5,:]"
      ],
      "metadata": {
        "id": "2cZYJRS0bLcU"
      },
      "execution_count": null,
      "outputs": []
    },
    {
      "cell_type": "markdown",
      "source": [
        "**Энкодлох, кодчлол**"
      ],
      "metadata": {
        "id": "o_Lt0TGJb6Fc"
      }
    },
    {
      "cell_type": "markdown",
      "source": [
        "Категорийн өгөгдөлтэй харьцахдаа OneHotEncoder класс ашиглан кодчилол хийдэг"
      ],
      "metadata": {
        "id": "rttPoto7cBmI"
      }
    },
    {
      "cell_type": "code",
      "source": [
        "from sklearn.preprocessing import OneHotEncoder\n",
        "encoder = OneHotEncoder()\n",
        "print(encoder.fit([[0,1,6,2],[1,5,3,5],[2,4,2,7],[1,0,4,2]]))\n",
        "encoder.transform([[2,4,3,4]]).toarray()"
      ],
      "metadata": {
        "id": "HVXSSXgecMNa"
      },
      "execution_count": null,
      "outputs": []
    },
    {
      "cell_type": "markdown",
      "source": [
        "**Шошгоны кодчилол**"
      ],
      "metadata": {
        "id": "JyRtyyu8c0f6"
      }
    },
    {
      "cell_type": "markdown",
      "source": [
        "Шошго нь үг эсвэл тоо байж болно. Ихэнхдээ сургалтын өгөдлийг унших боломжтой болгох үүднээс үгээр тэмдэглэдэг. Шошгоны кодчилол нь үгийн тэмдэглэгээг тоогоор хөрвүүлж алгоритм дээр ажиллах боломжийг олгоно."
      ],
      "metadata": {
        "id": "UOB-d2jXc5S_"
      }
    },
    {
      "cell_type": "code",
      "source": [
        "from sklearn.preprocessing import LabelEncoder\n",
        "label_encoder = LabelEncoder()\n",
        "input_classes = ['A','B','C','D','E']\n",
        "label_encoder.fit(input_classes)\n",
        "for i, item in enumerate(label_encoder.classes_):\n",
        "  print(item,'-->', i)\n",
        "input_classes = ['A','B','C','D','E']\n",
        "labels=['B','C','D']\n",
        "label_encoder.transform(labels)\n",
        "label_encoder.inverse_transform(label_encoder.transform(labels))"
      ],
      "metadata": {
        "colab": {
          "base_uri": "https://localhost:8080/"
        },
        "id": "omSqHm1idkpJ",
        "outputId": "2d0c1069-bcf7-4b11-b944-96ca1d242f3a"
      },
      "execution_count": null,
      "outputs": [
        {
          "output_type": "stream",
          "name": "stdout",
          "text": [
            "A --> 0\n",
            "B --> 1\n",
            "C --> 2\n",
            "D --> 3\n",
            "E --> 4\n"
          ]
        },
        {
          "output_type": "execute_result",
          "data": {
            "text/plain": [
              "array(['B', 'C', 'D'], dtype='<U1')"
            ]
          },
          "metadata": {},
          "execution_count": 11
        }
      ]
    },
    {
      "cell_type": "markdown",
      "source": [
        "#SVM аргаар хөхний хавдрыг урьдчилан таамаглах"
      ],
      "metadata": {
        "id": "Ls6AqxleevZR"
      }
    },
    {
      "cell_type": "markdown",
      "source": [
        "Өвчтний эмчилгээний түүх, эрүүл мэндийн мэдээллийг ашиглан хөхний хорт хавдрын тохиолдлыг урьдчилан таамаглахын тулд машин сургалтын Тулгуур вектор машины аргыг ашиглана. Хөхний хорт хавдар Висконсин (Оношлогоо) Датасетийг ашиглая. Дараах алхмуудаар хэрэгжүүлнэ."
      ],
      "metadata": {
        "id": "--EFteoTe3Pv"
      }
    },
    {
      "cell_type": "code",
      "source": [
        "import pandas as pd"
      ],
      "metadata": {
        "id": "z-VFdYo8esza"
      },
      "execution_count": null,
      "outputs": []
    },
    {
      "cell_type": "markdown",
      "source": [
        ""
      ],
      "metadata": {
        "id": "FCwUth8lgQRH"
      }
    },
    {
      "cell_type": "code",
      "source": [
        "df = pd.DataFrame(\n",
        "    {\n",
        "        \"Radius_mean\" : [17.99, 20.57, 19.69, 11.42, 20.29, 12.42, 18.25, 13.71, 13, 12.46, 16.02, 15.78, 14.61, 12.76, 11.54, 8.597, 12.49, 12.18, 18.22, 9.042],\n",
        "        \"Texture_mean\" : [10.38, 17.77, 21.25, 20.38, 14.34, 15.7, 19.98, 20.83, 21.82, 24.04, 23.24, 17.89, 15.69, 13.37, 10.72, 18.6, 16.85, 14.08, 18.87, 18.9],\n",
        "        \"Perimeter_mean\": [122.8, 132.9, 130, 77.58, 135.1, 82.57, 119.6, 90.2, 87.5, 83.97, 102.7, 103.6, 92.68, 82.29, 73.73, 54.09, 79.19, 77.25, 118.7, 60.07],\n",
        "        \"Area_mean\": [1001, 1326, 1203, 386.1, 1297, 477.1, 1040, 577.9, 519.8, 475.9, 797.8, 781, 664.9, 504.1, 409.1, 221.2, 481.6, 461.4, 1027, 244.5],\n",
        "        \"Diagnosis\" : [1, 1, 1, 1, 1, 1, 1, 1, 1, 1, 1, 1, 0, 0, 0, 0, 0, 0, 1, 0] \n",
        "    }\n",
        ")"
      ],
      "metadata": {
        "id": "vcMXyFmfgc6z"
      },
      "execution_count": null,
      "outputs": []
    },
    {
      "cell_type": "code",
      "source": [
        "df.to_csv('cancer_data.csv')\n",
        "print(df.shape)\n",
        "print(df)"
      ],
      "metadata": {
        "colab": {
          "base_uri": "https://localhost:8080/"
        },
        "id": "fYRsGnsgjJM6",
        "outputId": "d377fbc9-1274-41cb-8aa2-7e9e31f28db4"
      },
      "execution_count": null,
      "outputs": [
        {
          "output_type": "stream",
          "name": "stdout",
          "text": [
            "(20, 5)\n",
            "    Radius_mean  Texture_mean  Perimeter_mean  Area_mean  Diagnosis\n",
            "0        17.990         10.38          122.80     1001.0          1\n",
            "1        20.570         17.77          132.90     1326.0          1\n",
            "2        19.690         21.25          130.00     1203.0          1\n",
            "3        11.420         20.38           77.58      386.1          1\n",
            "4        20.290         14.34          135.10     1297.0          1\n",
            "5        12.420         15.70           82.57      477.1          1\n",
            "6        18.250         19.98          119.60     1040.0          1\n",
            "7        13.710         20.83           90.20      577.9          1\n",
            "8        13.000         21.82           87.50      519.8          1\n",
            "9        12.460         24.04           83.97      475.9          1\n",
            "10       16.020         23.24          102.70      797.8          1\n",
            "11       15.780         17.89          103.60      781.0          1\n",
            "12       14.610         15.69           92.68      664.9          0\n",
            "13       12.760         13.37           82.29      504.1          0\n",
            "14       11.540         10.72           73.73      409.1          0\n",
            "15        8.597         18.60           54.09      221.2          0\n",
            "16       12.490         16.85           79.19      481.6          0\n",
            "17       12.180         14.08           77.25      461.4          0\n",
            "18       18.220         18.87          118.70     1027.0          1\n",
            "19        9.042         18.90           60.07      244.5          0\n"
          ]
        }
      ]
    },
    {
      "cell_type": "markdown",
      "source": [
        "Алхам 2. Онцлог шинж чанар, зорилтыг тодорхойлно"
      ],
      "metadata": {
        "id": "VZl_Mm9ojjQf"
      }
    },
    {
      "cell_type": "code",
      "source": [
        "X = df.drop('Diagnosis', axis =1)\n",
        "y = df['Diagnosis']\n",
        "print(y)"
      ],
      "metadata": {
        "colab": {
          "base_uri": "https://localhost:8080/"
        },
        "id": "jXzt-xmtjq_x",
        "outputId": "ce38d670-9027-43ec-e4df-84ebf70b92f9"
      },
      "execution_count": null,
      "outputs": [
        {
          "output_type": "stream",
          "name": "stdout",
          "text": [
            "0     1\n",
            "1     1\n",
            "2     1\n",
            "3     1\n",
            "4     1\n",
            "5     1\n",
            "6     1\n",
            "7     1\n",
            "8     1\n",
            "9     1\n",
            "10    1\n",
            "11    1\n",
            "12    0\n",
            "13    0\n",
            "14    0\n",
            "15    0\n",
            "16    0\n",
            "17    0\n",
            "18    1\n",
            "19    0\n",
            "Name: Diagnosis, dtype: int64\n"
          ]
        }
      ]
    },
    {
      "cell_type": "markdown",
      "source": [
        "Алхам 3. SVM алгоритмын загварын бүтээхэд sklearn сан ашиглан өмнө өгөгдлийг сургалтын болон туршилтын гэж 2 хуваана."
      ],
      "metadata": {
        "id": "6QOyZAxMjItR"
      }
    },
    {
      "cell_type": "code",
      "source": [
        "from sklearn.model_selection import train_test_split\n",
        "X_train, X_test, y_train, y_test = train_test_split(X, y, test_size = 0.20)"
      ],
      "metadata": {
        "id": "dLz0RO7rkRfE"
      },
      "execution_count": null,
      "outputs": []
    },
    {
      "cell_type": "markdown",
      "source": [
        "Алхам 4. SVM алгоритмын загварыг бүтээхэд sklearn сан ашиглан өмнө өгөгдлийг сургалтын болон туршилтын гэж 2 хуваана."
      ],
      "metadata": {
        "id": "2UQY_oN3ksMf"
      }
    },
    {
      "cell_type": "markdown",
      "source": [
        "Sklearn SVM модулаас SVC функцыг оруулж ирж тулгуур вектор машины загварыг бүтээнэ. Хэрэгжүүлэх цөм нь kernel буюу шугамани ангилагч байна."
      ],
      "metadata": {
        "id": "tEAUihVkk7EU"
      }
    },
    {
      "cell_type": "code",
      "source": [
        "from sklearn.svm import SVC\n",
        "svclassifier = SVC(kernel='linear')\n",
        "svclassifier.fit(X_train, y_train)"
      ],
      "metadata": {
        "colab": {
          "base_uri": "https://localhost:8080/"
        },
        "id": "LwtM-HjMlOV6",
        "outputId": "a6ffd6b1-b914-4f46-ce21-56752316b87a"
      },
      "execution_count": null,
      "outputs": [
        {
          "output_type": "execute_result",
          "data": {
            "text/plain": [
              "SVC(kernel='linear')"
            ]
          },
          "metadata": {},
          "execution_count": 21
        }
      ]
    },
    {
      "cell_type": "markdown",
      "source": [
        "Алхам 5. SVM алгоритмын загварыг ашиглан утгыг урьдчилан таамаглах"
      ],
      "metadata": {
        "id": "eHIbA1L3ljXa"
      }
    },
    {
      "cell_type": "code",
      "source": [
        "y_pred = svclassifier.predict(X_test)"
      ],
      "metadata": {
        "id": "ZYGkecxxls5T"
      },
      "execution_count": null,
      "outputs": []
    },
    {
      "cell_type": "markdown",
      "source": [
        "Алхам 6. SVM моделийг үнэлэх"
      ],
      "metadata": {
        "id": "Xu_69d1olzsC"
      }
    },
    {
      "cell_type": "code",
      "source": [
        "from sklearn.metrics import classification_report \n",
        "from sklearn.metrics import confusion_matrix\n",
        "\n",
        "print(confusion_matrix(y_test, y_pred))\n",
        "print(classification_report(y_test, y_pred))"
      ],
      "metadata": {
        "colab": {
          "base_uri": "https://localhost:8080/"
        },
        "id": "dyi4vY89l6tS",
        "outputId": "ffebf5eb-de7c-466d-a0e5-496b9f13ad0a"
      },
      "execution_count": null,
      "outputs": [
        {
          "output_type": "stream",
          "name": "stdout",
          "text": [
            "[[1 0]\n",
            " [1 2]]\n",
            "              precision    recall  f1-score   support\n",
            "\n",
            "           0       0.50      1.00      0.67         1\n",
            "           1       1.00      0.67      0.80         3\n",
            "\n",
            "    accuracy                           0.75         4\n",
            "   macro avg       0.75      0.83      0.73         4\n",
            "weighted avg       0.88      0.75      0.77         4\n",
            "\n"
          ]
        }
      ]
    },
    {
      "cell_type": "markdown",
      "source": [
        "Мөн SVM нь олон гишүүнт цөмтэй байж болно. SVC функцыг оруулж ирээд цөмийг нь 'poly' гэж тохируулна."
      ],
      "metadata": {
        "id": "iuzV_zsnm4aN"
      }
    },
    {
      "cell_type": "code",
      "source": [
        "from sklearn.svm import SVC\n",
        "svclassifier_poly = SVC(kernel = 'poly', degree = 8)\n",
        "svclassifier_poly.fit(X_train, y_train)"
      ],
      "metadata": {
        "colab": {
          "base_uri": "https://localhost:8080/"
        },
        "id": "5u_mY_y9nHjY",
        "outputId": "b491603f-0ef4-4c69-c36e-e53a81cd7299"
      },
      "execution_count": null,
      "outputs": [
        {
          "output_type": "execute_result",
          "data": {
            "text/plain": [
              "SVC(degree=8, kernel='poly')"
            ]
          },
          "metadata": {},
          "execution_count": 29
        }
      ]
    },
    {
      "cell_type": "markdown",
      "source": [
        "Үр дүн"
      ],
      "metadata": {
        "id": "XHKg-497nmxI"
      }
    },
    {
      "cell_type": "markdown",
      "source": [
        "Сургасан SVM моделиор таамаглал хийж үзээд моделийн үнэлгээг гаргана."
      ],
      "metadata": {
        "id": "KHpWKvsSno2_"
      }
    },
    {
      "cell_type": "code",
      "source": [
        "y_pred_poly = svclassifier_poly.predict(X_test)\n",
        "from sklearn.metrics import classification_report, confusion_matrix\n",
        "print(confusion_matrix(y_test, y_pred_poly))\n",
        "print(classification_report(y_test, y_pred_poly))"
      ],
      "metadata": {
        "colab": {
          "base_uri": "https://localhost:8080/"
        },
        "id": "7gOJwFUgnzCt",
        "outputId": "101618e7-cbad-4347-e179-51ed525e0710"
      },
      "execution_count": null,
      "outputs": [
        {
          "output_type": "stream",
          "name": "stdout",
          "text": [
            "[[1 0]\n",
            " [2 1]]\n",
            "              precision    recall  f1-score   support\n",
            "\n",
            "           0       0.33      1.00      0.50         1\n",
            "           1       1.00      0.33      0.50         3\n",
            "\n",
            "    accuracy                           0.50         4\n",
            "   macro avg       0.67      0.67      0.50         4\n",
            "weighted avg       0.83      0.50      0.50         4\n",
            "\n"
          ]
        }
      ]
    },
    {
      "cell_type": "markdown",
      "source": [
        "Мөн SVM нь Гауссын цөмтэй байж болно. SVC функцыг оруулж ирээд цөмийг нь 'rbf' гэж тохируулна."
      ],
      "metadata": {
        "id": "jM_BCc0_okCX"
      }
    },
    {
      "cell_type": "code",
      "source": [
        "from sklearn.svm import SVC\n",
        "SVCsvclassifier_gaus = SVC(kernel='rbf')\n",
        "SVCsvclassifier_gaus.fit(X_train, y_train)"
      ],
      "metadata": {
        "colab": {
          "base_uri": "https://localhost:8080/"
        },
        "id": "PhLVwOCuo2kB",
        "outputId": "92b5581a-4fd1-4c04-cf6f-48829745fe71"
      },
      "execution_count": null,
      "outputs": [
        {
          "output_type": "execute_result",
          "data": {
            "text/plain": [
              "SVC()"
            ]
          },
          "metadata": {},
          "execution_count": 38
        }
      ]
    },
    {
      "cell_type": "markdown",
      "source": [
        "Сургасан SVM моделиор таамаглал хийж үзээд моделийн үнэлгээг гаргана."
      ],
      "metadata": {
        "id": "BDXSAZWjqSG6"
      }
    },
    {
      "cell_type": "code",
      "source": [
        "y_pred_gaus = svclassifier_poly.predict(X_test)\n",
        "from sklearn.metrics import classification_report, confusion_matrix\n",
        "print(confusion_matrix(y_test, y_pred_gaus))\n",
        "print(classification_report(y_test, y_pred_gaus))"
      ],
      "metadata": {
        "colab": {
          "base_uri": "https://localhost:8080/"
        },
        "id": "xifSKX78qiVw",
        "outputId": "8ad9e6fd-4a50-49d6-c303-730a0a36f3be"
      },
      "execution_count": null,
      "outputs": [
        {
          "output_type": "stream",
          "name": "stdout",
          "text": [
            "[[1 0]\n",
            " [2 1]]\n",
            "              precision    recall  f1-score   support\n",
            "\n",
            "           0       0.33      1.00      0.50         1\n",
            "           1       1.00      0.33      0.50         3\n",
            "\n",
            "    accuracy                           0.50         4\n",
            "   macro avg       0.67      0.67      0.50         4\n",
            "weighted avg       0.83      0.50      0.50         4\n",
            "\n"
          ]
        }
      ]
    },
    {
      "cell_type": "markdown",
      "source": [
        "Мөн SVM нь 'sigmoid' цөмтэй байж болно. SVC функцыг оруулж ирээд цөмийг нь 'sigmoid' гэж тохируулна."
      ],
      "metadata": {
        "id": "LXnTEGAlq7jK"
      }
    },
    {
      "cell_type": "code",
      "source": [
        "from sklearn.svm import SVC\n",
        "svclassifier_sigmoid = SVC(kernel = 'sigmoid')\n",
        "svclassifier_sigmoid.fit(X_train, y_train)\n",
        "y_pred_sigmoid = svclassifier_poly.predict(X_test)\n",
        "from sklearn.metrics import classification_report, confusion_matrix\n",
        "print(confusion_matrix(y_test, y_pred_sigmoid))\n",
        "print(classification_report(y_test, y_pred_sigmoid))"
      ],
      "metadata": {
        "colab": {
          "base_uri": "https://localhost:8080/"
        },
        "id": "ksYllxFLrL0K",
        "outputId": "6914b648-0801-4ab2-df30-bf90a8869728"
      },
      "execution_count": null,
      "outputs": [
        {
          "output_type": "stream",
          "name": "stdout",
          "text": [
            "[[1 0]\n",
            " [2 1]]\n",
            "              precision    recall  f1-score   support\n",
            "\n",
            "           0       0.33      1.00      0.50         1\n",
            "           1       1.00      0.33      0.50         3\n",
            "\n",
            "    accuracy                           0.50         4\n",
            "   macro avg       0.67      0.67      0.50         4\n",
            "weighted avg       0.83      0.50      0.50         4\n",
            "\n"
          ]
        }
      ]
    }
  ]
}